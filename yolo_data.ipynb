{
 "cells": [
  {
   "cell_type": "code",
   "execution_count": 53,
   "metadata": {},
   "outputs": [
    {
     "data": {
      "text/plain": [
       "['/Users/chaeseungwan/Downloads/bboxes_yolo/29.txt',\n",
       " '/Users/chaeseungwan/Downloads/bboxes_yolo/15.txt',\n",
       " '/Users/chaeseungwan/Downloads/bboxes_yolo/114.txt',\n",
       " '/Users/chaeseungwan/Downloads/bboxes_yolo/128.txt',\n",
       " '/Users/chaeseungwan/Downloads/bboxes_yolo/129.txt']"
      ]
     },
     "execution_count": 53,
     "metadata": {},
     "output_type": "execute_result"
    }
   ],
   "source": [
    "import glob\n",
    "\n",
    "txt = glob.glob('/Users/chaeseungwan/Downloads/bboxes_yolo/*.txt')\n",
    "txt[:5]"
   ]
  },
  {
   "cell_type": "code",
   "execution_count": 54,
   "metadata": {},
   "outputs": [
    {
     "name": "stdout",
     "output_type": "stream",
     "text": [
      "['1 0.3015625 0.5972222222222222 0.08541666666666667 0.1814814814814815\\n', '1 0.6604166666666667 0.42962962962962964 0.3385416666666667 0.6425925925925926']\n"
     ]
    }
   ],
   "source": [
    "with open('/Users/chaeseungwan/Downloads/bboxes_yolo/201.txt', mode='r') as file:\n",
    "    string = file.readlines()\n",
    "    print(string)"
   ]
  },
  {
   "cell_type": "code",
   "execution_count": 55,
   "metadata": {},
   "outputs": [
    {
     "name": "stdout",
     "output_type": "stream",
     "text": [
      "[]\n"
     ]
    }
   ],
   "source": [
    "with open('/Users/chaeseungwan/Downloads/bboxes_yolo/29.txt', mode='r') as file:\n",
    "    string = file.readlines()\n",
    "    print(string)"
   ]
  },
  {
   "cell_type": "code",
   "execution_count": 56,
   "metadata": {},
   "outputs": [
    {
     "data": {
      "text/plain": [
       "['1', '1']"
      ]
     },
     "execution_count": 56,
     "metadata": {},
     "output_type": "execute_result"
    }
   ],
   "source": [
    "class_test = []\n",
    "\n",
    "with open('/Users/chaeseungwan/Downloads/bboxes_yolo/201.txt', mode='r') as file:\n",
    "    string = file.readlines()\n",
    "    \n",
    "    \n",
    "    for i in range(len(string)):\n",
    "        if string == []:\n",
    "            pass\n",
    "        else:\n",
    "            class_test.append(string[i][0])\n",
    "        \n",
    "class_test"
   ]
  },
  {
   "cell_type": "code",
   "execution_count": 57,
   "metadata": {},
   "outputs": [],
   "source": [
    "import glob\n",
    "\n",
    "file_name = []\n",
    "class_name = []\n",
    "\n",
    "txt = glob.glob('/Users/chaeseungwan/Downloads/bboxes_yolo/*.txt')\n",
    "\n",
    "for txt in txt:\n",
    "    with open(txt, mode='r') as file:\n",
    "        string = file.readlines()\n",
    "    \n",
    "        if string == []:\n",
    "            pass\n",
    "        else:\n",
    "            file_name.append(txt.split('/')[-1])\n",
    "            class_name.append(string[0][0])\n",
    "        "
   ]
  },
  {
   "cell_type": "code",
   "execution_count": 58,
   "metadata": {},
   "outputs": [
    {
     "name": "stdout",
     "output_type": "stream",
     "text": [
      "179\n",
      "179\n"
     ]
    }
   ],
   "source": [
    "print(len(file_name))\n",
    "print(len(class_name))"
   ]
  },
  {
   "cell_type": "code",
   "execution_count": 59,
   "metadata": {},
   "outputs": [
    {
     "data": {
      "text/plain": [
       "188"
      ]
     },
     "execution_count": 59,
     "metadata": {},
     "output_type": "execute_result"
    }
   ],
   "source": [
    "txt = glob.glob('/Users/chaeseungwan/Downloads/bboxes_yolo/*.txt')\n",
    "len(txt)"
   ]
  },
  {
   "cell_type": "code",
   "execution_count": 60,
   "metadata": {},
   "outputs": [],
   "source": [
    "file_name = []\n",
    "class_name = []\n",
    "\n",
    "txt = glob.glob('/Users/chaeseungwan/Downloads/bboxes_yolo/*.txt')\n",
    "\n",
    "for txt in txt:\n",
    "    with open(txt, mode='r') as file:\n",
    "        string = file.readlines()\n",
    "        \n",
    "        for i in range(len(string)):\n",
    "        \n",
    "            if string == []:\n",
    "                pass\n",
    "            else:\n",
    "                file_name.append(txt.split('/')[-1])\n",
    "                class_name.append(string[i][0])"
   ]
  },
  {
   "cell_type": "code",
   "execution_count": 61,
   "metadata": {},
   "outputs": [
    {
     "name": "stdout",
     "output_type": "stream",
     "text": [
      "195\n",
      "195\n"
     ]
    }
   ],
   "source": [
    "print(len(file_name))\n",
    "print(len(class_name))"
   ]
  },
  {
   "cell_type": "code",
   "execution_count": 62,
   "metadata": {},
   "outputs": [
    {
     "data": {
      "text/html": [
       "<div>\n",
       "<style scoped>\n",
       "    .dataframe tbody tr th:only-of-type {\n",
       "        vertical-align: middle;\n",
       "    }\n",
       "\n",
       "    .dataframe tbody tr th {\n",
       "        vertical-align: top;\n",
       "    }\n",
       "\n",
       "    .dataframe thead th {\n",
       "        text-align: right;\n",
       "    }\n",
       "</style>\n",
       "<table border=\"1\" class=\"dataframe\">\n",
       "  <thead>\n",
       "    <tr style=\"text-align: right;\">\n",
       "      <th></th>\n",
       "      <th>file_name</th>\n",
       "    </tr>\n",
       "  </thead>\n",
       "  <tbody>\n",
       "    <tr>\n",
       "      <th>0</th>\n",
       "      <td>15.txt</td>\n",
       "    </tr>\n",
       "    <tr>\n",
       "      <th>1</th>\n",
       "      <td>114.txt</td>\n",
       "    </tr>\n",
       "    <tr>\n",
       "      <th>2</th>\n",
       "      <td>128.txt</td>\n",
       "    </tr>\n",
       "    <tr>\n",
       "      <th>3</th>\n",
       "      <td>129.txt</td>\n",
       "    </tr>\n",
       "    <tr>\n",
       "      <th>4</th>\n",
       "      <td>101.txt</td>\n",
       "    </tr>\n",
       "  </tbody>\n",
       "</table>\n",
       "</div>"
      ],
      "text/plain": [
       "  file_name\n",
       "0    15.txt\n",
       "1   114.txt\n",
       "2   128.txt\n",
       "3   129.txt\n",
       "4   101.txt"
      ]
     },
     "execution_count": 62,
     "metadata": {},
     "output_type": "execute_result"
    }
   ],
   "source": [
    "import pandas as pd\n",
    "\n",
    "data = pd.DataFrame(file_name, columns=['file_name'])\n",
    "data.head()"
   ]
  },
  {
   "cell_type": "code",
   "execution_count": 63,
   "metadata": {},
   "outputs": [
    {
     "data": {
      "text/html": [
       "<div>\n",
       "<style scoped>\n",
       "    .dataframe tbody tr th:only-of-type {\n",
       "        vertical-align: middle;\n",
       "    }\n",
       "\n",
       "    .dataframe tbody tr th {\n",
       "        vertical-align: top;\n",
       "    }\n",
       "\n",
       "    .dataframe thead th {\n",
       "        text-align: right;\n",
       "    }\n",
       "</style>\n",
       "<table border=\"1\" class=\"dataframe\">\n",
       "  <thead>\n",
       "    <tr style=\"text-align: right;\">\n",
       "      <th></th>\n",
       "      <th>file_name</th>\n",
       "      <th>class_name</th>\n",
       "    </tr>\n",
       "  </thead>\n",
       "  <tbody>\n",
       "    <tr>\n",
       "      <th>0</th>\n",
       "      <td>15.txt</td>\n",
       "      <td>0</td>\n",
       "    </tr>\n",
       "    <tr>\n",
       "      <th>1</th>\n",
       "      <td>114.txt</td>\n",
       "      <td>0</td>\n",
       "    </tr>\n",
       "    <tr>\n",
       "      <th>2</th>\n",
       "      <td>128.txt</td>\n",
       "      <td>0</td>\n",
       "    </tr>\n",
       "    <tr>\n",
       "      <th>3</th>\n",
       "      <td>129.txt</td>\n",
       "      <td>1</td>\n",
       "    </tr>\n",
       "    <tr>\n",
       "      <th>4</th>\n",
       "      <td>101.txt</td>\n",
       "      <td>2</td>\n",
       "    </tr>\n",
       "  </tbody>\n",
       "</table>\n",
       "</div>"
      ],
      "text/plain": [
       "  file_name class_name\n",
       "0    15.txt          0\n",
       "1   114.txt          0\n",
       "2   128.txt          0\n",
       "3   129.txt          1\n",
       "4   101.txt          2"
      ]
     },
     "execution_count": 63,
     "metadata": {},
     "output_type": "execute_result"
    }
   ],
   "source": [
    "data['class_name'] = class_name\n",
    "data.head()"
   ]
  },
  {
   "cell_type": "code",
   "execution_count": 64,
   "metadata": {},
   "outputs": [
    {
     "data": {
      "text/plain": [
       "0    137\n",
       "3     23\n",
       "2     19\n",
       "1     16\n",
       "Name: class_name, dtype: int64"
      ]
     },
     "execution_count": 64,
     "metadata": {},
     "output_type": "execute_result"
    }
   ],
   "source": [
    "data['class_name'].value_counts()"
   ]
  },
  {
   "cell_type": "code",
   "execution_count": 65,
   "metadata": {},
   "outputs": [],
   "source": [
    "from sklearn.model_selection import train_test_split\n",
    "x_train, x_test, y_train, y_test = train_test_split(data['file_name'], data['class_name'], stratify=data['class_name'], test_size=0.2, random_state=42)"
   ]
  },
  {
   "cell_type": "code",
   "execution_count": 66,
   "metadata": {},
   "outputs": [
    {
     "data": {
      "text/plain": [
       "0    110\n",
       "3     18\n",
       "2     15\n",
       "1     13\n",
       "Name: class_name, dtype: int64"
      ]
     },
     "execution_count": 66,
     "metadata": {},
     "output_type": "execute_result"
    }
   ],
   "source": [
    "y_train.value_counts()"
   ]
  },
  {
   "cell_type": "code",
   "execution_count": 67,
   "metadata": {},
   "outputs": [
    {
     "data": {
      "text/plain": [
       "0    27\n",
       "3     5\n",
       "2     4\n",
       "1     3\n",
       "Name: class_name, dtype: int64"
      ]
     },
     "execution_count": 67,
     "metadata": {},
     "output_type": "execute_result"
    }
   ],
   "source": [
    "y_test.value_counts()"
   ]
  },
  {
   "cell_type": "code",
   "execution_count": 68,
   "metadata": {},
   "outputs": [],
   "source": [
    "a = 106 + 15 + 14 + 8\n",
    "b = 27 + 4 + 3 + 2"
   ]
  },
  {
   "cell_type": "code",
   "execution_count": 69,
   "metadata": {},
   "outputs": [
    {
     "name": "stdout",
     "output_type": "stream",
     "text": [
      "0.7412587412587412\n",
      "0.75\n"
     ]
    }
   ],
   "source": [
    "aa = 106 / a\n",
    "bb = 27 / b\n",
    "print(aa)\n",
    "print(bb)"
   ]
  },
  {
   "cell_type": "code",
   "execution_count": 70,
   "metadata": {},
   "outputs": [
    {
     "data": {
      "text/plain": [
       "'15.txt'"
      ]
     },
     "execution_count": 70,
     "metadata": {},
     "output_type": "execute_result"
    }
   ],
   "source": [
    "data['file_name'].iloc[0]"
   ]
  },
  {
   "cell_type": "code",
   "execution_count": 71,
   "metadata": {},
   "outputs": [
    {
     "data": {
      "text/plain": [
       "['15.txt',\n",
       " '114.txt',\n",
       " '128.txt',\n",
       " '129.txt',\n",
       " '101.txt',\n",
       " '28.txt',\n",
       " '16.txt',\n",
       " '103.txt',\n",
       " '117.txt',\n",
       " '116.txt',\n",
       " '102.txt',\n",
       " '17.txt',\n",
       " '13.txt',\n",
       " '106.txt',\n",
       " '112.txt',\n",
       " '113.txt',\n",
       " '107.txt',\n",
       " '38.txt',\n",
       " '139.txt',\n",
       " '111.txt',\n",
       " '105.txt',\n",
       " '104.txt',\n",
       " '110.txt',\n",
       " '138.txt',\n",
       " '201.txt',\n",
       " '201.txt',\n",
       " '215.txt',\n",
       " '229.txt',\n",
       " '76.txt',\n",
       " '188.txt',\n",
       " '62.txt',\n",
       " '89.txt',\n",
       " '177.txt',\n",
       " '163.txt',\n",
       " '162.txt',\n",
       " '88.txt',\n",
       " '176.txt',\n",
       " '77.txt',\n",
       " '189.txt',\n",
       " '228.txt',\n",
       " '214.txt',\n",
       " '200.txt',\n",
       " '216.txt',\n",
       " '202.txt',\n",
       " '202.txt',\n",
       " '49.txt',\n",
       " '75.txt',\n",
       " '160.txt',\n",
       " '160.txt',\n",
       " '174.txt',\n",
       " '148.txt',\n",
       " '148.txt',\n",
       " '149.txt',\n",
       " '149.txt',\n",
       " '175.txt',\n",
       " '74.txt',\n",
       " '60.txt',\n",
       " '48.txt',\n",
       " '203.txt',\n",
       " '217.txt',\n",
       " '213.txt',\n",
       " '207.txt',\n",
       " '70.txt',\n",
       " '159.txt',\n",
       " '165.txt',\n",
       " '171.txt',\n",
       " '170.txt',\n",
       " '170.txt',\n",
       " '164.txt',\n",
       " '158.txt',\n",
       " '71.txt',\n",
       " '206.txt',\n",
       " '212.txt',\n",
       " '238.txt',\n",
       " '204.txt',\n",
       " '210.txt',\n",
       " '73.txt',\n",
       " '67.txt',\n",
       " '199.txt',\n",
       " '172.txt',\n",
       " '98.txt',\n",
       " '166.txt',\n",
       " '167.txt',\n",
       " '173.txt',\n",
       " '8.txt',\n",
       " '198.txt',\n",
       " '211.txt',\n",
       " '205.txt',\n",
       " '239.txt',\n",
       " '220.txt',\n",
       " '208.txt',\n",
       " '208.txt',\n",
       " '57.txt',\n",
       " '5.txt',\n",
       " '156.txt',\n",
       " '94.txt',\n",
       " '80.txt',\n",
       " '81.txt',\n",
       " '95.txt',\n",
       " '143.txt',\n",
       " '157.txt',\n",
       " '42.txt',\n",
       " '56.txt',\n",
       " '4.txt',\n",
       " '194.txt',\n",
       " '209.txt',\n",
       " '237.txt',\n",
       " '223.txt',\n",
       " '196.txt',\n",
       " '68.txt',\n",
       " '6.txt',\n",
       " '54.txt',\n",
       " '141.txt',\n",
       " '83.txt',\n",
       " '169.txt',\n",
       " '169.txt',\n",
       " '97.txt',\n",
       " '96.txt',\n",
       " '82.txt',\n",
       " '154.txt',\n",
       " '140.txt',\n",
       " '55.txt',\n",
       " '197.txt',\n",
       " '69.txt',\n",
       " '183.txt',\n",
       " '226.txt',\n",
       " '51.txt',\n",
       " '187.txt',\n",
       " '79.txt',\n",
       " '193.txt',\n",
       " '86.txt',\n",
       " '92.txt',\n",
       " '144.txt',\n",
       " '144.txt',\n",
       " '150.txt',\n",
       " '151.txt',\n",
       " '145.txt',\n",
       " '145.txt',\n",
       " '93.txt',\n",
       " '87.txt',\n",
       " '192.txt',\n",
       " '186.txt',\n",
       " '78.txt',\n",
       " '50.txt',\n",
       " '219.txt',\n",
       " '225.txt',\n",
       " '231.txt',\n",
       " '190.txt',\n",
       " '184.txt',\n",
       " '184.txt',\n",
       " '91.txt',\n",
       " '85.txt',\n",
       " '153.txt',\n",
       " '153.txt',\n",
       " '147.txt',\n",
       " '147.txt',\n",
       " '146.txt',\n",
       " '146.txt',\n",
       " '152.txt',\n",
       " '152.txt',\n",
       " '90.txt',\n",
       " '185.txt',\n",
       " '191.txt',\n",
       " '47.txt',\n",
       " '218.txt',\n",
       " '243.txt',\n",
       " '135.txt',\n",
       " '109.txt',\n",
       " '108.txt',\n",
       " '120.txt',\n",
       " '134.txt',\n",
       " '134.txt',\n",
       " '242.txt',\n",
       " '240.txt',\n",
       " '23.txt',\n",
       " '37.txt',\n",
       " '136.txt',\n",
       " '137.txt',\n",
       " '241.txt',\n",
       " '26.txt',\n",
       " '32.txt',\n",
       " '133.txt',\n",
       " '132.txt',\n",
       " '126.txt',\n",
       " '33.txt',\n",
       " '244.txt',\n",
       " '31.txt',\n",
       " '25.txt',\n",
       " '118.txt',\n",
       " '130.txt',\n",
       " '124.txt',\n",
       " '131.txt',\n",
       " '119.txt',\n",
       " '24.txt',\n",
       " '30.txt']"
      ]
     },
     "execution_count": 71,
     "metadata": {},
     "output_type": "execute_result"
    }
   ],
   "source": [
    "test = []\n",
    "\n",
    "for i in range(len(data)):\n",
    "    name = data['file_name'].iloc[i]\n",
    "    test.append(name)\n",
    "    \n",
    "test\n",
    "\n"
   ]
  },
  {
   "cell_type": "code",
   "execution_count": 72,
   "metadata": {},
   "outputs": [],
   "source": [
    "with open('/Users/chaeseungwan/Desktop/test.txt', 'w') as f:\n",
    "    for line in test:\n",
    "        f.write(line)\n",
    "        f.write('\\n')\n"
   ]
  },
  {
   "cell_type": "code",
   "execution_count": 50,
   "metadata": {
    "scrolled": true
   },
   "outputs": [
    {
     "data": {
      "text/plain": [
       "['n_32',\n",
       " 'n_26',\n",
       " 'n_27',\n",
       " 'n_33',\n",
       " 'n_25',\n",
       " 'n_31',\n",
       " 'n_19',\n",
       " 'n_18',\n",
       " 'n_30',\n",
       " 'n_24',\n",
       " 'n_20',\n",
       " 'n_34',\n",
       " 'n_35',\n",
       " 'n_21',\n",
       " 'n_37',\n",
       " 'n_23',\n",
       " 'n_22',\n",
       " 'n_36',\n",
       " 'n_51',\n",
       " 'n_45',\n",
       " 'n_44',\n",
       " 'n_50',\n",
       " 'n_9',\n",
       " 'n_46',\n",
       " 'n_52',\n",
       " 'n_53',\n",
       " 'n_47',\n",
       " 'n_8',\n",
       " 'n_43',\n",
       " 'n_42',\n",
       " 'n_54',\n",
       " 'n_40',\n",
       " 'n_41',\n",
       " 'n_3',\n",
       " 'n_2',\n",
       " 'n_1',\n",
       " 'n_5',\n",
       " 'n_4',\n",
       " 'n_6',\n",
       " 'n_49',\n",
       " 'n_48',\n",
       " 'n_7',\n",
       " 'n_13',\n",
       " 'n_12',\n",
       " 'n_10',\n",
       " 'n_38',\n",
       " 'n_39',\n",
       " 'n_11',\n",
       " 'n_29',\n",
       " 'n_15',\n",
       " 'n_14',\n",
       " 'n_28',\n",
       " 'n_16',\n",
       " 'n_17']"
      ]
     },
     "execution_count": 50,
     "metadata": {},
     "output_type": "execute_result"
    }
   ],
   "source": [
    "nag_name = []\n",
    "for i in range(len(nag)):\n",
    "    name = nag[i].split('/')[-1].split('.')[0]\n",
    "    nag_name.append(name)\n",
    "    \n",
    "nag_name"
   ]
  },
  {
   "cell_type": "code",
   "execution_count": 47,
   "metadata": {},
   "outputs": [
    {
     "data": {
      "text/plain": [
       "'/Users/chaeseungwan/Desktop/txtn_19'"
      ]
     },
     "execution_count": 47,
     "metadata": {},
     "output_type": "execute_result"
    }
   ],
   "source": [
    "\"/Users/chaeseungwan/Desktop/txt/\" + 'n_19'\n",
    "\n"
   ]
  },
  {
   "cell_type": "code",
   "execution_count": 83,
   "metadata": {},
   "outputs": [],
   "source": [
    "for i in nag_name:\n",
    "    add = \"/Users/chaeseungwan/Desktop/txt/\" + i + '.txt'\n",
    "    f = open(add, 'w')\n",
    "    f.close()\n",
    "    \n",
    "    \n",
    "    "
   ]
  },
  {
   "cell_type": "code",
   "execution_count": 73,
   "metadata": {
    "scrolled": true
   },
   "outputs": [
    {
     "data": {
      "text/plain": [
       "['/Users/chaeseungwan/Desktop/집게차/n_32.png',\n",
       " '/Users/chaeseungwan/Desktop/집게차/n_26.png',\n",
       " '/Users/chaeseungwan/Desktop/집게차/n_27.png',\n",
       " '/Users/chaeseungwan/Desktop/집게차/n_33.png',\n",
       " '/Users/chaeseungwan/Desktop/집게차/n_25.png',\n",
       " '/Users/chaeseungwan/Desktop/집게차/n_31.png',\n",
       " '/Users/chaeseungwan/Desktop/집게차/n_19.png',\n",
       " '/Users/chaeseungwan/Desktop/집게차/n_18.png',\n",
       " '/Users/chaeseungwan/Desktop/집게차/n_30.png',\n",
       " '/Users/chaeseungwan/Desktop/집게차/n_24.png',\n",
       " '/Users/chaeseungwan/Desktop/집게차/n_20.png',\n",
       " '/Users/chaeseungwan/Desktop/집게차/n_34.png',\n",
       " '/Users/chaeseungwan/Desktop/집게차/n_35.png',\n",
       " '/Users/chaeseungwan/Desktop/집게차/n_21.png',\n",
       " '/Users/chaeseungwan/Desktop/집게차/n_37.png',\n",
       " '/Users/chaeseungwan/Desktop/집게차/n_23.png',\n",
       " '/Users/chaeseungwan/Desktop/집게차/n_22.png',\n",
       " '/Users/chaeseungwan/Desktop/집게차/n_36.png',\n",
       " '/Users/chaeseungwan/Desktop/집게차/n_51.png',\n",
       " '/Users/chaeseungwan/Desktop/집게차/n_45.png',\n",
       " '/Users/chaeseungwan/Desktop/집게차/n_44.png',\n",
       " '/Users/chaeseungwan/Desktop/집게차/n_50.png',\n",
       " '/Users/chaeseungwan/Desktop/집게차/n_9.png',\n",
       " '/Users/chaeseungwan/Desktop/집게차/n_46.png',\n",
       " '/Users/chaeseungwan/Desktop/집게차/n_52.png',\n",
       " '/Users/chaeseungwan/Desktop/집게차/n_53.png',\n",
       " '/Users/chaeseungwan/Desktop/집게차/n_47.png',\n",
       " '/Users/chaeseungwan/Desktop/집게차/n_8.png',\n",
       " '/Users/chaeseungwan/Desktop/집게차/n_43.png',\n",
       " '/Users/chaeseungwan/Desktop/집게차/n_42.png',\n",
       " '/Users/chaeseungwan/Desktop/집게차/n_54.png',\n",
       " '/Users/chaeseungwan/Desktop/집게차/n_40.png',\n",
       " '/Users/chaeseungwan/Desktop/집게차/n_41.png',\n",
       " '/Users/chaeseungwan/Desktop/집게차/n_3.png',\n",
       " '/Users/chaeseungwan/Desktop/집게차/n_2.png',\n",
       " '/Users/chaeseungwan/Desktop/집게차/n_1.png',\n",
       " '/Users/chaeseungwan/Desktop/집게차/n_5.png',\n",
       " '/Users/chaeseungwan/Desktop/집게차/n_4.png',\n",
       " '/Users/chaeseungwan/Desktop/집게차/n_6.png',\n",
       " '/Users/chaeseungwan/Desktop/집게차/n_49.png',\n",
       " '/Users/chaeseungwan/Desktop/집게차/n_48.png',\n",
       " '/Users/chaeseungwan/Desktop/집게차/n_7.png',\n",
       " '/Users/chaeseungwan/Desktop/집게차/n_13.png',\n",
       " '/Users/chaeseungwan/Desktop/집게차/n_12.png',\n",
       " '/Users/chaeseungwan/Desktop/집게차/n_10.png',\n",
       " '/Users/chaeseungwan/Desktop/집게차/n_38.png',\n",
       " '/Users/chaeseungwan/Desktop/집게차/n_39.png',\n",
       " '/Users/chaeseungwan/Desktop/집게차/n_11.png',\n",
       " '/Users/chaeseungwan/Desktop/집게차/n_29.png',\n",
       " '/Users/chaeseungwan/Desktop/집게차/n_15.png',\n",
       " '/Users/chaeseungwan/Desktop/집게차/n_14.png',\n",
       " '/Users/chaeseungwan/Desktop/집게차/n_28.png',\n",
       " '/Users/chaeseungwan/Desktop/집게차/n_16.png',\n",
       " '/Users/chaeseungwan/Desktop/집게차/n_17.png']"
      ]
     },
     "execution_count": 73,
     "metadata": {},
     "output_type": "execute_result"
    }
   ],
   "source": [
    "import glob\n",
    "\n",
    "nag = glob.glob('/Users/chaeseungwan/Desktop/집게차/*.png')\n",
    "nag\n",
    "\n"
   ]
  },
  {
   "cell_type": "code",
   "execution_count": 81,
   "metadata": {},
   "outputs": [
    {
     "data": {
      "text/plain": [
       "'n_32'"
      ]
     },
     "execution_count": 81,
     "metadata": {},
     "output_type": "execute_result"
    }
   ],
   "source": [
    "nag[0].split('/')[-1].split('.')[0]"
   ]
  },
  {
   "cell_type": "code",
   "execution_count": 85,
   "metadata": {},
   "outputs": [
    {
     "data": {
      "text/plain": [
       "['15.txt',\n",
       " '114.txt',\n",
       " '128.txt',\n",
       " '129.txt',\n",
       " '101.txt',\n",
       " '28.txt',\n",
       " '16.txt',\n",
       " '103.txt',\n",
       " '117.txt',\n",
       " '116.txt',\n",
       " '102.txt',\n",
       " '17.txt',\n",
       " '13.txt',\n",
       " '106.txt',\n",
       " '112.txt',\n",
       " '113.txt',\n",
       " '107.txt',\n",
       " '38.txt',\n",
       " '139.txt',\n",
       " '111.txt',\n",
       " '105.txt',\n",
       " '104.txt',\n",
       " '110.txt',\n",
       " '138.txt',\n",
       " '201.txt',\n",
       " '201.txt',\n",
       " '215.txt',\n",
       " '229.txt',\n",
       " '76.txt',\n",
       " '188.txt',\n",
       " '62.txt',\n",
       " '89.txt',\n",
       " '177.txt',\n",
       " '163.txt',\n",
       " '162.txt',\n",
       " '88.txt',\n",
       " '176.txt',\n",
       " '77.txt',\n",
       " '189.txt',\n",
       " '228.txt',\n",
       " '214.txt',\n",
       " '200.txt',\n",
       " '216.txt',\n",
       " '202.txt',\n",
       " '202.txt',\n",
       " '49.txt',\n",
       " '75.txt',\n",
       " '160.txt',\n",
       " '160.txt',\n",
       " '174.txt',\n",
       " '148.txt',\n",
       " '148.txt',\n",
       " '149.txt',\n",
       " '149.txt',\n",
       " '175.txt',\n",
       " '74.txt',\n",
       " '60.txt',\n",
       " '48.txt',\n",
       " '203.txt',\n",
       " '217.txt',\n",
       " '213.txt',\n",
       " '207.txt',\n",
       " '70.txt',\n",
       " '159.txt',\n",
       " '165.txt',\n",
       " '171.txt',\n",
       " '170.txt',\n",
       " '170.txt',\n",
       " '164.txt',\n",
       " '158.txt',\n",
       " '71.txt',\n",
       " '206.txt',\n",
       " '212.txt',\n",
       " '238.txt',\n",
       " '204.txt',\n",
       " '210.txt',\n",
       " '73.txt',\n",
       " '67.txt',\n",
       " '199.txt',\n",
       " '172.txt',\n",
       " '98.txt',\n",
       " '166.txt',\n",
       " '167.txt',\n",
       " '173.txt',\n",
       " '8.txt',\n",
       " '198.txt',\n",
       " '211.txt',\n",
       " '205.txt',\n",
       " '239.txt',\n",
       " '220.txt',\n",
       " '208.txt',\n",
       " '208.txt',\n",
       " '57.txt',\n",
       " '5.txt',\n",
       " '156.txt',\n",
       " '94.txt',\n",
       " '80.txt',\n",
       " '81.txt',\n",
       " '95.txt',\n",
       " '143.txt',\n",
       " '157.txt',\n",
       " '42.txt',\n",
       " '56.txt',\n",
       " '4.txt',\n",
       " '194.txt',\n",
       " '209.txt',\n",
       " '237.txt',\n",
       " '223.txt',\n",
       " '196.txt',\n",
       " '68.txt',\n",
       " '6.txt',\n",
       " '54.txt',\n",
       " '141.txt',\n",
       " '83.txt',\n",
       " '169.txt',\n",
       " '169.txt',\n",
       " '97.txt',\n",
       " '96.txt',\n",
       " '82.txt',\n",
       " '154.txt',\n",
       " '140.txt',\n",
       " '55.txt',\n",
       " '197.txt',\n",
       " '69.txt',\n",
       " '183.txt',\n",
       " '226.txt',\n",
       " '51.txt',\n",
       " '187.txt',\n",
       " '79.txt',\n",
       " '193.txt',\n",
       " '86.txt',\n",
       " '92.txt',\n",
       " '144.txt',\n",
       " '144.txt',\n",
       " '150.txt',\n",
       " '151.txt',\n",
       " '145.txt',\n",
       " '145.txt',\n",
       " '93.txt',\n",
       " '87.txt',\n",
       " '192.txt',\n",
       " '186.txt',\n",
       " '78.txt',\n",
       " '50.txt',\n",
       " '219.txt',\n",
       " '225.txt',\n",
       " '231.txt',\n",
       " '190.txt',\n",
       " '184.txt',\n",
       " '184.txt',\n",
       " '91.txt',\n",
       " '85.txt',\n",
       " '153.txt',\n",
       " '153.txt',\n",
       " '147.txt',\n",
       " '147.txt',\n",
       " '146.txt',\n",
       " '146.txt',\n",
       " '152.txt',\n",
       " '152.txt',\n",
       " '90.txt',\n",
       " '185.txt',\n",
       " '191.txt',\n",
       " '47.txt',\n",
       " '218.txt',\n",
       " '243.txt',\n",
       " '135.txt',\n",
       " '109.txt',\n",
       " '108.txt',\n",
       " '120.txt',\n",
       " '134.txt',\n",
       " '134.txt',\n",
       " '242.txt',\n",
       " '240.txt',\n",
       " '23.txt',\n",
       " '37.txt',\n",
       " '136.txt',\n",
       " '137.txt',\n",
       " '241.txt',\n",
       " '26.txt',\n",
       " '32.txt',\n",
       " '133.txt',\n",
       " '132.txt',\n",
       " '126.txt',\n",
       " '33.txt',\n",
       " '244.txt',\n",
       " '31.txt',\n",
       " '25.txt',\n",
       " '118.txt',\n",
       " '130.txt',\n",
       " '124.txt',\n",
       " '131.txt',\n",
       " '119.txt',\n",
       " '24.txt',\n",
       " '30.txt']"
      ]
     },
     "execution_count": 85,
     "metadata": {},
     "output_type": "execute_result"
    }
   ],
   "source": [
    "test"
   ]
  },
  {
   "cell_type": "code",
   "execution_count": 102,
   "metadata": {},
   "outputs": [],
   "source": [
    "with open(\"/Users/chaeseungwan/Desktop/txt\", 'w') as f:\n",
    "    for line in test:\n",
    "        f.write(line)\n",
    "        f.write('\\n')\n",
    "        \n",
    "        "
   ]
  },
  {
   "cell_type": "code",
   "execution_count": 96,
   "metadata": {},
   "outputs": [],
   "source": [
    "with open('/Users/chaeseungwan/Desktop/txt', 'a') as f:\n",
    "    f.write('aaa')\n",
    "    f.write('\\n')\n",
    "    \n",
    "f.close()"
   ]
  },
  {
   "cell_type": "code",
   "execution_count": null,
   "metadata": {},
   "outputs": [],
   "source": []
  }
 ],
 "metadata": {
  "kernelspec": {
   "display_name": "Python 3",
   "language": "python",
   "name": "python3"
  },
  "language_info": {
   "codemirror_mode": {
    "name": "ipython",
    "version": 3
   },
   "file_extension": ".py",
   "mimetype": "text/x-python",
   "name": "python",
   "nbconvert_exporter": "python",
   "pygments_lexer": "ipython3",
   "version": "3.7.6"
  }
 },
 "nbformat": 4,
 "nbformat_minor": 4
}
